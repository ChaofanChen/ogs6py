{
 "cells": [
  {
   "cell_type": "markdown",
   "id": "30af40e6",
   "metadata": {},
   "source": [
    "# Summary\n",
    "\n",
    "ogs6py is a Python interface for the OpenGeoSys finite element software [@Bilke2019].\n",
    "In conjunction with VTUinterface it is possible to streamline modeling workflows\n",
    "in Jupyter Notebooks using Python.\n",
    "With this article, we wish to introduce two new Python modules that facilitate\n",
    "the pre- and postprocessing of finite element calculations of OpenGeoSys and thus\n",
    "make this code more accessible. Their use is demonstrated along workflows typically\n",
    "encountered by the modeller, including the variation of parameters, boundary conditions,\n",
    "or solver settings, the verification of simulation results by comparison to analytical\n",
    "solutions, the set-up and evaluation of ensemble runs, the analysis of results by line plots,\n",
    "time series, or transient contour plots.\n",
    "\n",
    "# Statement of need\n",
    "\n",
    "Driven by its ease-of-use and flexibility as an open-source \n",
    "dynamic language, its vast modular ecosystem, the development of powerful plotting\n",
    "libraries and the Jupyter Notebook technology, Python became the quasi-standard for \n",
    "scientific data analysis in the modelling community during the past decade.\n",
    "However, the attractiveness of Phython is not just limited to postprocessing. \n",
    "E.g, with the Python wrapper for GMSH [@geuzaine2009gmsh] or the tool meshio [@nico_schlomer_2021_4745399] also pre-processing tasks can\n",
    "be easily conducted without leaving the IPython command prompt. The useability of a modeling package\n",
    "is therefore greatly enhanced if Python bindings are provided. In fact, \n",
    "while many open-source tools effectively forced the user to learn a singular syntax\n",
    "for interacting with the software, Python bindings allow control over such tools from \n",
    "within the Python world and thus open them up for a wider community of users.\n",
    "\n",
    "Here, we are particularly addressing the open-source code OpenGeoSys (OGS) [@Bilke2019] version 6. It is our aim\n",
    "to facilitate both pre- and post-processing workflows using the Python ecosystem. \n",
    "This aim was not the least inspired by the desire to facilitate setting up, controlling and\n",
    "evaluating ensemble runs [@Buchwald2020,@Chaudhry2021] but has now taken on a wider perspective of general \n",
    "software usability. There exists already a similar python interface \"ogs5py\" for OGS version 5 [@muller2021ogs5py]. \n",
    "However, the differences in many concepts, like input file handling, required an entirely new package build from scratch.\n",
    "\n",
    "As standard output format, OpenGeoSys uses VTK unstructured grid files (VTU) as timeslices stacked together by a PVD file.\n",
    "These can be analyzed typically using Paraview [@ahrens2005paraview]. For interactive Python use the Python \n",
    "wrapper for VTK [@schroeder2000visualizing] and some other tools like PyVista [@sullivan2019pyvista] or Mayavi [@ramachandran2011mayavi] \n",
    "are available facilitating an easier access to the VTK library.\n",
    "While the direct use of the VTK library is quite cumbersome for quite _simple_ tasks, like reading data for a given point set, especially when interpolation between grid points is also required. The latter packages focus mainly on 3D visualization. However, the _bread and butter_ bussiness of a finite-element-modeller often cosists of the extraction of single- or multiple point time-series data.\n",
    "To our knowledge the named packages (with the exception of Paraview) don't have file support for PVDs or time series data, yet ([@pvdissue; @timeseriesissue].\n",
    "\n",
    "# Usage\n",
    "\n",
    "With ogs6py it is possible to create complete OGS source files from scratch or to alter existing file.\n",
    "The following example uses a complete input file for a coupled THM point heat source problem, exchanges parts and writes the input, runs the problem and analyses the results. We start by importing the modules required for handling OGS input, VTU output mathematical manipulations and plotting."
   ]
  },
  {
   "cell_type": "code",
   "execution_count": 47,
   "id": "93170107",
   "metadata": {},
   "outputs": [],
   "source": [
    "from ogs6py.ogs import OGS"
   ]
  },
  {
   "cell_type": "code",
   "execution_count": 48,
   "id": "b653e471",
   "metadata": {},
   "outputs": [],
   "source": [
    "import plot_settings"
   ]
  },
  {
   "cell_type": "code",
   "execution_count": 49,
   "id": "51b123d6",
   "metadata": {},
   "outputs": [],
   "source": [
    "import vtuIO"
   ]
  },
  {
   "cell_type": "code",
   "execution_count": 50,
   "id": "91b8f3a8",
   "metadata": {},
   "outputs": [],
   "source": [
    "import numpy as np"
   ]
  },
  {
   "cell_type": "code",
   "execution_count": 51,
   "id": "ea94c75d",
   "metadata": {},
   "outputs": [],
   "source": [
    "import matplotlib.pyplot as plt\n",
    "import matplotlib.tri as tri"
   ]
  },
  {
   "cell_type": "markdown",
   "id": "5f088860",
   "metadata": {},
   "source": [
    "# Example problem\n",
    "\n",
    "In order to demonstrate the features of the problem, we study the example of a tunnel excavation followed by emplacement of a heat-emitting canister. The model simulates the thermal, hydraulic and mechanical response of the system during these two phases. For details on such problems we refer the reader to previous work [@Wang2021]. The modelling domain consists of a $200\\; \\text{m} \\times 200\\; \\text{m}$ section through a clay rock formation with circular excavatio ($r=2.5\\ \\text{m}$) with boundary conditions mimicing a heat-emitting canister as can be seen later in the results."
   ]
  },
  {
   "cell_type": "markdown",
   "id": "2fbc8bf5",
   "metadata": {},
   "source": [
    "## 1. Excavation\n",
    "\n",
    "\n",
    "We first excavate the tunnel by gradually reducing the traction and the pore pressure at the tunnel contour.\n",
    "This is achieved by a so-called deconfinement curve distributing the excavation over 8 days. The excavated tunnel is then left to drain and consolidate for another 300 days prior to the commencement of heating. The excavation phase is set up based on a basic input file provided by the user."
   ]
  },
  {
   "cell_type": "code",
   "execution_count": 52,
   "id": "3f35d704",
   "metadata": {},
   "outputs": [],
   "source": [
    "model = OGS(INPUT_FILE=\"tunnel_ogs6py.prj\", PROJECT_FILE=\"tunnel_exc.prj\", MKL=True)"
   ]
  },
  {
   "cell_type": "code",
   "execution_count": 53,
   "id": "72056368",
   "metadata": {},
   "outputs": [],
   "source": [
    "model.replace_text(\"tunnel_exc\", xpath=\"./time_loop/output/prefix\")"
   ]
  },
  {
   "cell_type": "code",
   "execution_count": 54,
   "id": "f91cad31",
   "metadata": {},
   "outputs": [
    {
     "data": {
      "text/plain": [
       "True"
      ]
     },
     "execution_count": 54,
     "metadata": {},
     "output_type": "execute_result"
    }
   ],
   "source": [
    "model.write_input()"
   ]
  },
  {
   "cell_type": "markdown",
   "id": "9a29b078",
   "metadata": {},
   "source": [
    "The input file tunnel_ogspy.prj can be build from scratch using ogs6py commands. The corresponding code can be found in create_tunnel.py.\n",
    "The path to the ogs executable and a name for the logfile containing important information on the simulation run need to be given as well."
   ]
  },
  {
   "cell_type": "code",
   "execution_count": 55,
   "id": "6062e3f3",
   "metadata": {},
   "outputs": [
    {
     "name": "stdout",
     "output_type": "stream",
     "text": [
      "OGS finished with project file tunnel_exc.prj.\n",
      "Execution took 32.865978717803955 s\n"
     ]
    }
   ],
   "source": [
    "model.run_model(path=\"~/github/ogs/build_mkl/bin\", logfile=\"excavation.log\")"
   ]
  },
  {
   "cell_type": "markdown",
   "id": "980e34c6",
   "metadata": {},
   "source": [
    "The ouput can be eaysily analyzed using the capabilities of the VTUinterface tool.\n",
    "It is important to tell vtuIO the dimensionality of the problem in order to use the correct algorithm for spatial interpolation."
   ]
  },
  {
   "cell_type": "markdown",
   "id": "bb3d222e",
   "metadata": {},
   "source": [
    "One of the most significant features of VTUinterface is the ability to deal with PVD files as time series data."
   ]
  },
  {
   "cell_type": "code",
   "execution_count": 56,
   "id": "7abaf492",
   "metadata": {},
   "outputs": [
    {
     "name": "stdout",
     "output_type": "stream",
     "text": [
      "tunnel_exc.pvd\n"
     ]
    }
   ],
   "source": [
    "pvdfile = vtuIO.PVDIO(\"tunnel_exc.pvd\", dim=2)"
   ]
  },
  {
   "cell_type": "markdown",
   "id": "5718d71c-b029-4a56-85f2-487bb569200a",
   "metadata": {},
   "source": [
    "The folllowing command reads time series data from the PVD and the VTU files referenced therein.\n",
    "The default observation point is {'pt0': (0,0,0)} corresponding to the tunnel center. Using the interpolation method nearest,\n",
    "the data at the tunnel boundary can be gathered:"
   ]
  },
  {
   "cell_type": "code",
   "execution_count": 57,
   "id": "5d7028b0",
   "metadata": {},
   "outputs": [],
   "source": [
    "excavation_curve = pvdfile.read_time_series(\"pressure\", interpolation_method=\"nearest\")"
   ]
  },
  {
   "cell_type": "markdown",
   "id": "bad9667a-792b-485d-bb5c-508512d34870",
   "metadata": {},
   "source": [
    "and directly displayed using matplotlib:"
   ]
  },
  {
   "cell_type": "code",
   "execution_count": 58,
   "id": "009b6171",
   "metadata": {},
   "outputs": [
    {
     "data": {
      "image/png": "[encoded data removed]",
      "text/plain": [
       "<Figure size 576x432 with 1 Axes>"
      ]
     },
     "metadata": {
      "needs_background": "light"
     },
     "output_type": "display_data"
    }
   ],
   "source": [
    "plt.plot(pvdfile.timesteps, excavation_curve[\"pt0\"] / 1e6)\n",
    "plt.xlabel(\"$t$ / d\")\n",
    "plt.ylabel(\"$p$ / MPa\");"
   ]
  },
  {
   "cell_type": "markdown",
   "id": "bf73f689",
   "metadata": {},
   "source": [
    "## 2. Spatially varying properties\n",
    "\n",
    "Another useful feature in a modelling workflow we wish to demonstrate is the assignment of spatially varying properties, initial conditions, etc. Here, we include a permeability enhancement in the vicinity of the tunnel after excavation in order to mimic the existence of an excavation damaged zone (EDZ) as an illustrative example [@Wang2021]. Counter to our usual simulations, the EDZ is here only activated in the heating phase in order to keep this demonstration case simple.\n",
    "\n",
    "To define a field for an existing VTU file, we can define an arbitrary founction depending on three coordinates x,y and z:"
   ]
  },
  {
   "cell_type": "code",
   "execution_count": 59,
   "id": "ee33debf-1556-4b5a-8796-422c071012d2",
   "metadata": {},
   "outputs": [],
   "source": [
    "R = 2.5"
   ]
  },
  {
   "cell_type": "code",
   "execution_count": 60,
   "id": "87b741bd",
   "metadata": {},
   "outputs": [],
   "source": [
    "def permEDZ(x,y,z):\n",
    "    r = np.sqrt(x**2+y**2)\n",
    "    return np.exp(-(r-R)*3)/1e17+1e-20"
   ]
  },
  {
   "cell_type": "code",
   "execution_count": 61,
   "id": "27af5b3a",
   "metadata": {},
   "outputs": [],
   "source": [
    "r = np.linspace(R,10,100)"
   ]
  },
  {
   "cell_type": "code",
   "execution_count": 62,
   "id": "3e3200f1",
   "metadata": {},
   "outputs": [
    {
     "data": {
      "image/png": "[encoded data removed]",
      "text/plain": [
       "<Figure size 576x432 with 1 Axes>"
      ]
     },
     "metadata": {
      "needs_background": "light"
     },
     "output_type": "display_data"
    }
   ],
   "source": [
    "plt.plot(r,permEDZ(r,0,0))\n",
    "plt.axvline(R,ls='--',color='black')\n",
    "plt.xlabel(\"$r$ / m\")\n",
    "plt.yscale(\"log\")\n",
    "plt.ylabel(\"$k$ / m$^2$\");"
   ]
  },
  {
   "cell_type": "markdown",
   "id": "39e18002-4071-4d38-a996-f11c8484beb9",
   "metadata": {},
   "source": [
    "We read in the last time-step after the excavation:"
   ]
  },
  {
   "cell_type": "code",
   "execution_count": 63,
   "id": "8ec9802a",
   "metadata": {},
   "outputs": [],
   "source": [
    "lasttimestep = vtuIO.VTUIO(\"tunnel_exc_ts_81_t_8.000000.vtu\", dim=2)"
   ]
  },
  {
   "cell_type": "markdown",
   "id": "fa9d2525-a6bb-4c0d-b1f5-504b62426605",
   "metadata": {},
   "source": [
    "The function ist then converted to a point field which is transformed to cell data by the function argument cell=True and written to the file \"tunnel_restart.vtu\":"
   ]
  },
  {
   "cell_type": "code",
   "execution_count": 64,
   "id": "3f3ad839",
   "metadata": {},
   "outputs": [],
   "source": [
    "lasttimestep.func_to_field(permEDZ, \"perm\", \"tunnel_restart.vtu\", cell=True)"
   ]
  },
  {
   "cell_type": "markdown",
   "id": "139baa1c",
   "metadata": {},
   "source": [
    "## 3. Heating phase\n",
    "\n",
    "Now that the properties are set and the initial conditions calculated, we can start the heating simulation. The following input specifies the boundary conditions of the problem and the material properties in the input file for the new phase, which is also based on the original input file used above for the excavation run.\n",
    "\n",
    "The following set of methods are general purpose methods specially suited for manipulating the OGS-6 (XML) input."
   ]
  },
  {
   "cell_type": "code",
   "execution_count": 65,
   "id": "d02bd506",
   "metadata": {},
   "outputs": [],
   "source": [
    "model = OGS(INPUT_FILE=\"tunnel.prj\", PROJECT_FILE=\"tunnel_heat.prj\", MKL=True)"
   ]
  },
  {
   "cell_type": "code",
   "execution_count": 66,
   "id": "5c39b677",
   "metadata": {},
   "outputs": [],
   "source": [
    "model.replace_text(\"tunnel_restart.vtu\", xpath=\"./meshes/mesh\", occurrence=0)\n",
    "model.replace_text(\"tunnel_heat\", xpath=\"./time_loop/output/prefix\")\n",
    "model.remove_element(\"./processes/process/initial_stress\")\n",
    "model.remove_element(\"./media/medium/properties/property[name='permeability']\")\n",
    "model.remove_element(\"./parameters/parameter[mesh='tunnel']\")\n",
    "model.add_block(\"property\", parent_xpath=\"./media/medium/properties\", taglist=[\"name\",\"type\", \"parameter_name\"], textlist=[\"permeability\", \"Parameter\", \"k\"])\n",
    "model.add_block(\"parameter\", parent_xpath=\"./parameters\", taglist=[\"name\",\"type\", \"field_name\"], textlist=[\"k\", \"MeshElement\", \"perm\"])\n",
    "model.add_block(\"parameter\", parent_xpath=\"./parameters\", taglist=[\"name\",\"type\", \"field_name\"], textlist=[\"displacement_exc\", \"MeshNode\", \"displacement\"])\n",
    "model.add_block(\"parameter\", parent_xpath=\"./parameters\", taglist=[\"name\",\"type\", \"field_name\"], textlist=[\"pressure_exc\", \"MeshNode\", \"pressure\"])\n",
    "model.replace_text(\"displacement_exc\", xpath=\"./process_variables/process_variable[name='displacement']/initial_condition\")\n",
    "model.replace_text(\"pressure_exc\", xpath=\"./process_variables/process_variable[name='pressure']/initial_condition\")\n",
    "model.remove_element(\"./process_variables/process_variable[name='displacement']/boundary_conditions/boundary_condition[mesh='tunnel_inner']\")\n",
    "model.remove_element(\"./process_variables/process_variable[name='pressure']/boundary_conditions/boundary_condition[mesh='tunnel_inner']\")\n",
    "model.add_block(\"boundary_condition\", parent_xpath=\"./process_variables/process_variable[name='temperature']/boundary_conditions\", taglist=[\"mesh\",\"type\", \"parameter\"], textlist=[\"tunnel_inner\", \"Neumann\", \"heat_bc\"])\n",
    "model.replace_text(\"100000000\", xpath=\"./time_loop/processes/process/time_stepping/t_end\")\n",
    "model.replace_text(\"500000\", xpath=\"./time_loop/processes/process/time_stepping/initial_dt\")\n",
    "model.replace_text(\"50000\", xpath=\"./time_loop/processes/process/time_stepping/minimum_dt\")\n",
    "model.replace_text(\"500000\", xpath=\"./time_loop/processes/process/time_stepping/maximum_dt\")\n",
    "model.replace_text(\"10\", xpath=\"./time_loop/output/timesteps/pair/each_steps\")"
   ]
  },
  {
   "cell_type": "code",
   "execution_count": 67,
   "id": "6c5d66bc",
   "metadata": {},
   "outputs": [
    {
     "data": {
      "text/plain": [
       "True"
      ]
     },
     "execution_count": 67,
     "metadata": {},
     "output_type": "execute_result"
    }
   ],
   "source": [
    "model.write_input()"
   ]
  },
  {
   "cell_type": "code",
   "execution_count": 68,
   "id": "a11bd40c",
   "metadata": {},
   "outputs": [
    {
     "name": "stdout",
     "output_type": "stream",
     "text": [
      "OGS finished with project file tunnel_heat.prj.\n",
      "Execution took 135.33820176124573 s\n"
     ]
    }
   ],
   "source": [
    "model.run_model(path=\"~/github/ogs/build_mkl/bin\", logfile=\"heating.log\")"
   ]
  },
  {
   "cell_type": "markdown",
   "id": "d1d0a85e",
   "metadata": {},
   "source": [
    "We now look at the output again and define a set of observation points. We're interested in temperatures as well as pore pressure rise due to thermal pressurization of the fluid."
   ]
  },
  {
   "cell_type": "code",
   "execution_count": 69,
   "id": "0431bcb6",
   "metadata": {},
   "outputs": [
    {
     "name": "stdout",
     "output_type": "stream",
     "text": [
      "tunnel_heat.pvd\n"
     ]
    }
   ],
   "source": [
    "pvdfile = vtuIO.PVDIO(\"tunnel_heat.pvd\", dim=2)"
   ]
  },
  {
   "cell_type": "code",
   "execution_count": 70,
   "id": "1966715a",
   "metadata": {},
   "outputs": [],
   "source": [
    "pts = {\"pt0\": (3.5,3.5,0), \"pt1\": (5.5,5.5,0), \"pt2\": (8.5,8.5,0)}"
   ]
  },
  {
   "cell_type": "code",
   "execution_count": 71,
   "id": "b206fd00",
   "metadata": {},
   "outputs": [],
   "source": [
    "heating_curve = pvdfile.read_time_series(\"temperature\", pts=pts)\n",
    "pressure_curve = pvdfile.read_time_series(\"pressure\", pts=pts)"
   ]
  },
  {
   "cell_type": "code",
   "execution_count": 72,
   "id": "e64ce077",
   "metadata": {},
   "outputs": [
    {
     "data": {
      "image/png": "[encoded data removed]",
      "text/plain": [
       "<Figure size 576x432 with 1 Axes>"
      ]
     },
     "metadata": {
      "needs_background": "light"
     },
     "output_type": "display_data"
    }
   ],
   "source": [
    "for pt in pts:\n",
    "    plt.plot(pvdfile.timesteps/86400, heating_curve[pt]-273.15)\n",
    "plt.xlabel(\"$t$ / d\")\n",
    "plt.ylabel(\"$T$ / °C\");"
   ]
  },
  {
   "cell_type": "code",
   "execution_count": 73,
   "id": "a5624973",
   "metadata": {},
   "outputs": [
    {
     "data": {
      "image/png": "[encoded data removed]",
      "text/plain": [
       "<Figure size 576x432 with 1 Axes>"
      ]
     },
     "metadata": {
      "needs_background": "light"
     },
     "output_type": "display_data"
    }
   ],
   "source": [
    "for pt in pts:\n",
    "    plt.plot(pvdfile.timesteps/86400, pressure_curve[pt] / 1e6)\n",
    "plt.xlabel(\"$t$ / d\")\n",
    "plt.ylabel(\"$p$ / MPa\");\n",
    "#plt.xscale('log')"
   ]
  },
  {
   "cell_type": "code",
   "execution_count": 74,
   "id": "9d9582c9",
   "metadata": {},
   "outputs": [],
   "source": [
    "last_ts_vtu = vtuIO.VTUIO(pvdfile.vtufilenames[-1], dim=2)"
   ]
  },
  {
   "cell_type": "markdown",
   "id": "c1682cf6",
   "metadata": {},
   "source": [
    "Without interpolation any field corresponding to the order of node points (saved in .points variable) can be read with the following command."
   ]
  },
  {
   "cell_type": "code",
   "execution_count": 75,
   "id": "ca12fca7",
   "metadata": {},
   "outputs": [],
   "source": [
    "pressurefield = last_ts_vtu.get_point_field(\"pressure_interpolated\")"
   ]
  },
  {
   "cell_type": "markdown",
   "id": "d95bea6b",
   "metadata": {},
   "source": [
    "The available field names can be obtained as well using the following function call:"
   ]
  },
  {
   "cell_type": "code",
   "execution_count": 76,
   "id": "84bc297e",
   "metadata": {},
   "outputs": [
    {
     "data": {
      "text/plain": [
       "['HydraulicFlow',\n",
       " 'NodalForces',\n",
       " 'displacement',\n",
       " 'epsilon',\n",
       " 'original_node_number',\n",
       " 'pressure',\n",
       " 'pressure_interpolated',\n",
       " 'saturation',\n",
       " 'sigma',\n",
       " 'temperature',\n",
       " 'temperature_interpolated',\n",
       " 'velocity']"
      ]
     },
     "execution_count": 76,
     "metadata": {},
     "output_type": "execute_result"
    }
   ],
   "source": [
    "last_ts_vtu.get_point_field_names()"
   ]
  },
  {
   "cell_type": "markdown",
   "id": "3c14fd1b",
   "metadata": {},
   "source": [
    "To make a contour plot of the pressure field, matplotlibs triangulation tools can be used:"
   ]
  },
  {
   "cell_type": "code",
   "execution_count": 77,
   "id": "04e74baf",
   "metadata": {},
   "outputs": [],
   "source": [
    "levels = np.arange(1, 10, 0.5)"
   ]
  },
  {
   "cell_type": "code",
   "execution_count": 78,
   "id": "762a23f4",
   "metadata": {},
   "outputs": [],
   "source": [
    "triang = tri.Triangulation(last_ts_vtu.points[:,0],last_ts_vtu.points[:,1])"
   ]
  },
  {
   "cell_type": "code",
   "execution_count": 79,
   "id": "e5bfa12e-2099-4802-ae5f-046238892684",
   "metadata": {},
   "outputs": [],
   "source": [
    "triang.set_mask(np.hypot(last_ts_vtu.points[:,0][triang.triangles].mean(axis=1),\n",
    "                         last_ts_vtu.points[:,1][triang.triangles].mean(axis=1))\n",
    "                < R)"
   ]
  },
  {
   "cell_type": "code",
   "execution_count": 80,
   "id": "67087344",
   "metadata": {},
   "outputs": [
    {
     "data": {
      "image/png": "[encoded data removed]",
      "text/plain": [
       "<Figure size 576x432 with 2 Axes>"
      ]
     },
     "metadata": {
      "needs_background": "light"
     },
     "output_type": "display_data"
    }
   ],
   "source": [
    "plt.tricontourf(triang,pressurefield/1e6, cmap=plt.cm.get_cmap(\"Reds\"), levels=levels)\n",
    "plt.xlabel(\"$x$ / m\")\n",
    "plt.ylabel(\"$y$ / m\")\n",
    "plt.colorbar(label='$p$ / MPa')\n",
    "plt.tight_layout()"
   ]
  },
  {
   "cell_type": "markdown",
   "id": "10a79b6b",
   "metadata": {},
   "source": [
    "Often it is important to read out data at arbitraty points within the mesh or along predefined lines.\n",
    "To do that we need to interpolate between grid points.\n",
    "VTUinterface uses scipy.interpolate for interpolation between grid points, i.e., the user can select between different methods that are provided by scipy.interpolate.\n",
    "\n",
    "A diagonal point set can be defined as follows:"
   ]
  },
  {
   "cell_type": "code",
   "execution_count": 81,
   "id": "3ba2ff81",
   "metadata": {},
   "outputs": [],
   "source": [
    "x = np.linspace(R,50,num=100)"
   ]
  },
  {
   "cell_type": "code",
   "execution_count": 82,
   "id": "3c06b787",
   "metadata": {},
   "outputs": [],
   "source": [
    "diagonal = [(i,i,0) for i in x]"
   ]
  },
  {
   "cell_type": "code",
   "execution_count": 83,
   "id": "6e2f0730",
   "metadata": {},
   "outputs": [],
   "source": [
    "interp_methods = [\"nearest\", \"linear\", \"cubic\"]"
   ]
  },
  {
   "cell_type": "markdown",
   "id": "b3255c9e",
   "metadata": {},
   "source": [
    "Using three different interpolation methods, we can read the output data for a point set array along the diagonal."
   ]
  },
  {
   "cell_type": "code",
   "execution_count": 84,
   "id": "c9d770a7",
   "metadata": {},
   "outputs": [],
   "source": [
    "p_diagonal = {}\n",
    "for method in interp_methods:\n",
    "    p_diagonal[method] = last_ts_vtu.get_point_set_data(\"pressure_interpolated\", pointsetarray=diagonal, interpolation_method=method)"
   ]
  },
  {
   "cell_type": "code",
   "execution_count": 85,
   "id": "92d278dd",
   "metadata": {},
   "outputs": [],
   "source": [
    "r = np.sqrt(2*x*x)"
   ]
  },
  {
   "cell_type": "code",
   "execution_count": 86,
   "id": "70f9bbbf",
   "metadata": {},
   "outputs": [
    {
     "data": {
      "image/png": "[encoded data removed]",
      "text/plain": [
       "<Figure size 576x432 with 1 Axes>"
      ]
     },
     "metadata": {
      "needs_background": "light"
     },
     "output_type": "display_data"
    }
   ],
   "source": [
    "for method in interp_methods:\n",
    "    plt.plot(r[:],p_diagonal[method]/1e6, label=method)\n",
    "plt.legend()\n",
    "plt.xlabel(\"$r$ / m\")\n",
    "plt.ylabel(\"$p$ / MPa\")\n",
    "plt.tight_layout();"
   ]
  },
  {
   "cell_type": "markdown",
   "id": "0e64bd32",
   "metadata": {},
   "source": [
    "## 5. Ensemble runs, sensitivity studies\n",
    "\n",
    "The combination of ogs6py with VTUinterface allows us to perform ensemble runs quite easily and to analyze the results directly on-the-fly.\n",
    "E.g., considering a  distribution of a triangularly distributed parameter like the solid thermal expansion coefficient $a_\\text{s}$:"
   ]
  },
  {
   "cell_type": "code",
   "execution_count": 87,
   "id": "8f4f64dc",
   "metadata": {},
   "outputs": [],
   "source": [
    "a_s_dist = {\"low\": 1e-6, \"mid\": 1.e-5, \"high\": 1.5e-5} "
   ]
  },
  {
   "cell_type": "markdown",
   "id": "1966226f-5d81-43ce-ba59-fbb52126dfad",
   "metadata": {},
   "source": [
    "In contrast to the the general purpose methods like `replace_text()` and `add_block()`, there exist also methods for very conveniently replacing medium, phase and parameter properties.\n",
    "In this example we use `replace_phase_property()` to set the solid thermal expansion coefficient drawn from the given distribution in each iteration.\n",
    "After execution, the pressure value at given points is read for the last time step and saved into a list.\n",
    "Parallelization of these kind of ensemble run is straight forwad e.g., using Pythons concurrent future methods."
   ]
  },
  {
   "cell_type": "code",
   "execution_count": 88,
   "id": "5ad99fd9",
   "metadata": {},
   "outputs": [
    {
     "name": "stdout",
     "output_type": "stream",
     "text": [
      "OGS finished with project file tunnel_heat_sample.prj.\n",
      "Execution took 138.44093585014343 s\n",
      "tunnel_heat_sample.pvd\n",
      "OGS finished with project file tunnel_heat_sample.prj.\n",
      "Execution took 139.1070053577423 s\n",
      "tunnel_heat_sample.pvd\n",
      "OGS finished with project file tunnel_heat_sample.prj.\n",
      "Execution took 167.14446687698364 s\n",
      "tunnel_heat_sample.pvd\n",
      "OGS finished with project file tunnel_heat_sample.prj.\n",
      "Execution took 166.8939745426178 s\n",
      "tunnel_heat_sample.pvd\n",
      "OGS finished with project file tunnel_heat_sample.prj.\n",
      "Execution took 135.93265199661255 s\n",
      "tunnel_heat_sample.pvd\n"
     ]
    }
   ],
   "source": [
    "a_s = []\n",
    "pressure = []\n",
    "for i in range(5):\n",
    "    model = OGS(INPUT_FILE=\"tunnel_heat.prj\", PROJECT_FILE=\"tunnel_heat_sample.prj\", MKL=True)\n",
    "    a_s.append(np.random.triangular(a_s_dist[\"low\"], a_s_dist[\"mid\"],a_s_dist[\"high\"]))\n",
    "    model.replace_text(\"tunnel_heat_sample\", xpath=\"./time_loop/output/prefix\")\n",
    "    model.replace_phase_property(mediumid=0, phase=\"Solid\", name=\"thermal_expansivity\", value=a_s[-1])\n",
    "    model.write_input()\n",
    "    model.run_model(path=\"~/github/ogs/build_mkl/bin\", logfile=\"heating.log\")\n",
    "    pvd = vtuIO.PVDIO(\"tunnel_heat_sample.pvd\")\n",
    "    last_ts_vtu = vtuIO.VTUIO(pvd.vtufilenames[-1], dim=2)\n",
    "    p_data = last_ts_vtu.get_point_data(\"pressure_interpolated\", pts=pts)\n",
    "    pressure.append(p_data[\"pt2\"])"
   ]
  },
  {
   "cell_type": "markdown",
   "id": "95d8b4ba-33d4-416d-abd3-93ce096f8d10",
   "metadata": {},
   "source": [
    "The output shows the linear correlation between the thermal expansion coeffient and the pressure response at the giveb point."
   ]
  },
  {
   "cell_type": "code",
   "execution_count": 89,
   "id": "0abd49ea",
   "metadata": {},
   "outputs": [
    {
     "data": {
      "image/png": "[encoded data removed]",
      "text/plain": [
       "<Figure size 576x432 with 1 Axes>"
      ]
     },
     "metadata": {
      "needs_background": "light"
     },
     "output_type": "display_data"
    }
   ],
   "source": [
    "plt.scatter(a_s, np.array(pressure)/1e6)\n",
    "plt.xlabel('$a_\\\\mathrm{s}$ / K$^{-1}$')\n",
    "plt.ylabel('$p$ / MPa')\n",
    "plt.tight_layout();"
   ]
  },
  {
   "cell_type": "markdown",
   "id": "7e7f4490",
   "metadata": {},
   "source": [
    "## 6. Log-parsing\n",
    "\n",
    "ogs6py also has a tool for parsing the OGS log output.\n",
    "This can be very helpful for studying numerical stability and performance.\n",
    "In the following example the output is read and the number or nonlinear iterations needed for every time step are ploted versus the time steps."
   ]
  },
  {
   "cell_type": "code",
   "execution_count": 162,
   "id": "430e1e94",
   "metadata": {},
   "outputs": [],
   "source": [
    "#\"heating.log\"\n",
    "out_df = model.parse_out(\"THM.log\")"
   ]
  },
  {
   "cell_type": "code",
   "execution_count": 163,
   "id": "f353fd99",
   "metadata": {},
   "outputs": [],
   "source": [
    "out_df.drop_duplicates(subset =\"time_step/number\", keep = \"last\", inplace = True)"
   ]
  },
  {
   "cell_type": "markdown",
   "id": "cf177c25-6826-4ec5-b4b6-858319476f7c",
   "metadata": {},
   "source": [
    "The output shows a very stable behavior as every time step needs 5 or 6 nonlinear iterations to converge."
   ]
  },
  {
   "cell_type": "code",
   "execution_count": 164,
   "id": "391b4156",
   "metadata": {},
   "outputs": [
    {
     "data": {
      "image/png": "[encoded data removed]",
      "text/plain": [
       "<Figure size 576x432 with 1 Axes>"
      ]
     },
     "metadata": {
      "needs_background": "light"
     },
     "output_type": "display_data"
    }
   ],
   "source": [
    "plt.plot(out_df[\"time_step/number\"], out_df[\"time_step/iteration/number\"])\n",
    "plt.xlabel(\"time step\")\n",
    "plt.ylabel(\"iterations per time step\")\n",
    "plt.tight_layout();"
   ]
  },
  {
   "cell_type": "code",
   "execution_count": 176,
   "id": "209fca37-e967-46ab-acf4-d3124b466184",
   "metadata": {},
   "outputs": [],
   "source": [
    "out_df = model.parse_out(\"THM.log\")"
   ]
  },
  {
   "cell_type": "code",
   "execution_count": 177,
   "id": "d24a6d36-8904-4328-a2ea-f606cb0ecc35",
   "metadata": {},
   "outputs": [],
   "source": [
    "#out_df[\"iterations_abs\"] = out_df[\"time_step/number\"]*out_df[\"time_step/iteration/number\"]"
   ]
  },
  {
   "cell_type": "code",
   "execution_count": 178,
   "id": "2902d77c-9528-4d5b-845a-91df743aa7b0",
   "metadata": {},
   "outputs": [],
   "source": [
    "out_df_new = out_df[out_df[\"time_step/iteration/component_convergence/number\"]==1]"
   ]
  },
  {
   "cell_type": "code",
   "execution_count": 179,
   "id": "9dc91b96-6802-495e-b074-9e897e9eba1c",
   "metadata": {},
   "outputs": [],
   "source": [
    "#out_df.drop_duplicates(subset =\"iterations_abs\", keep = \"first\", inplace = True)"
   ]
  },
  {
   "cell_type": "code",
   "execution_count": 180,
   "id": "524374b7-25a8-426c-966b-6930e1650daa",
   "metadata": {},
   "outputs": [
    {
     "data": {
      "text/plain": [
       "range(0, 2)"
      ]
     },
     "execution_count": 180,
     "metadata": {},
     "output_type": "execute_result"
    }
   ],
   "source": [
    "range(2)"
   ]
  },
  {
   "cell_type": "code",
   "execution_count": 181,
   "id": "9adcb820-5d47-418c-9589-e39b7b1d75e0",
   "metadata": {},
   "outputs": [
    {
     "data": {
      "text/html": [
       "<div>\n",
       "<style scoped>\n",
       "    .dataframe tbody tr th:only-of-type {\n",
       "        vertical-align: middle;\n",
       "    }\n",
       "\n",
       "    .dataframe tbody tr th {\n",
       "        vertical-align: top;\n",
       "    }\n",
       "\n",
       "    .dataframe thead th {\n",
       "        text-align: right;\n",
       "    }\n",
       "</style>\n",
       "<table border=\"1\" class=\"dataframe\">\n",
       "  <thead>\n",
       "    <tr style=\"text-align: right;\">\n",
       "      <th></th>\n",
       "      <th>execution_time</th>\n",
       "      <th>time_step/number</th>\n",
       "      <th>time_step/t</th>\n",
       "      <th>time_step/dt</th>\n",
       "      <th>time_step/cpu_time</th>\n",
       "      <th>time_step/output_time</th>\n",
       "      <th>time_step/iteration/number</th>\n",
       "      <th>time_step/iteration/assembly_time</th>\n",
       "      <th>time_step/iteration/dirichlet_bc_time</th>\n",
       "      <th>time_step/iteration/linear_solver_time</th>\n",
       "      <th>time_step/iteration/cpu_time</th>\n",
       "      <th>time_step/iteration/phase_field_parameter</th>\n",
       "      <th>time_step/iteration/component_convergence/number</th>\n",
       "      <th>time_step/iteration/component_convergence/dx</th>\n",
       "      <th>time_step/iteration/component_convergence/x</th>\n",
       "      <th>time_step/iteration/component_convergence/dx_relative</th>\n",
       "    </tr>\n",
       "  </thead>\n",
       "  <tbody>\n",
       "    <tr>\n",
       "      <th>37</th>\n",
       "      <td>5.07682</td>\n",
       "      <td>2</td>\n",
       "      <td>10000.0</td>\n",
       "      <td>5000.0</td>\n",
       "      <td>0.537828</td>\n",
       "      <td>NaN</td>\n",
       "      <td>1</td>\n",
       "      <td>0.022760</td>\n",
       "      <td>0.000955</td>\n",
       "      <td>0.048041</td>\n",
       "      <td>0.072458</td>\n",
       "      <td>None</td>\n",
       "      <td>1</td>\n",
       "      <td>3.679900e+08</td>\n",
       "      <td>1.093000e+09</td>\n",
       "      <td>3.366900e-01</td>\n",
       "    </tr>\n",
       "    <tr>\n",
       "      <th>41</th>\n",
       "      <td>5.07682</td>\n",
       "      <td>2</td>\n",
       "      <td>10000.0</td>\n",
       "      <td>5000.0</td>\n",
       "      <td>0.537828</td>\n",
       "      <td>NaN</td>\n",
       "      <td>2</td>\n",
       "      <td>0.026220</td>\n",
       "      <td>0.000959</td>\n",
       "      <td>0.049908</td>\n",
       "      <td>0.077778</td>\n",
       "      <td>None</td>\n",
       "      <td>1</td>\n",
       "      <td>1.198400e+08</td>\n",
       "      <td>9.735600e+08</td>\n",
       "      <td>1.230900e-01</td>\n",
       "    </tr>\n",
       "    <tr>\n",
       "      <th>45</th>\n",
       "      <td>5.07682</td>\n",
       "      <td>2</td>\n",
       "      <td>10000.0</td>\n",
       "      <td>5000.0</td>\n",
       "      <td>0.537828</td>\n",
       "      <td>NaN</td>\n",
       "      <td>3</td>\n",
       "      <td>0.025072</td>\n",
       "      <td>0.001008</td>\n",
       "      <td>0.047717</td>\n",
       "      <td>0.074520</td>\n",
       "      <td>None</td>\n",
       "      <td>1</td>\n",
       "      <td>1.251600e+05</td>\n",
       "      <td>9.734400e+08</td>\n",
       "      <td>1.285700e-04</td>\n",
       "    </tr>\n",
       "    <tr>\n",
       "      <th>49</th>\n",
       "      <td>5.07682</td>\n",
       "      <td>2</td>\n",
       "      <td>10000.0</td>\n",
       "      <td>5000.0</td>\n",
       "      <td>0.537828</td>\n",
       "      <td>NaN</td>\n",
       "      <td>4</td>\n",
       "      <td>0.025403</td>\n",
       "      <td>0.001071</td>\n",
       "      <td>0.049288</td>\n",
       "      <td>0.076502</td>\n",
       "      <td>None</td>\n",
       "      <td>1</td>\n",
       "      <td>2.169000e+02</td>\n",
       "      <td>9.734300e+08</td>\n",
       "      <td>2.228200e-07</td>\n",
       "    </tr>\n",
       "    <tr>\n",
       "      <th>53</th>\n",
       "      <td>5.07682</td>\n",
       "      <td>2</td>\n",
       "      <td>10000.0</td>\n",
       "      <td>5000.0</td>\n",
       "      <td>0.537828</td>\n",
       "      <td>NaN</td>\n",
       "      <td>5</td>\n",
       "      <td>0.025760</td>\n",
       "      <td>0.001051</td>\n",
       "      <td>0.048617</td>\n",
       "      <td>0.076121</td>\n",
       "      <td>None</td>\n",
       "      <td>1</td>\n",
       "      <td>3.380400e-01</td>\n",
       "      <td>9.734300e+08</td>\n",
       "      <td>3.472600e-10</td>\n",
       "    </tr>\n",
       "    <tr>\n",
       "      <th>57</th>\n",
       "      <td>5.07682</td>\n",
       "      <td>2</td>\n",
       "      <td>10000.0</td>\n",
       "      <td>5000.0</td>\n",
       "      <td>0.537828</td>\n",
       "      <td>NaN</td>\n",
       "      <td>6</td>\n",
       "      <td>0.025700</td>\n",
       "      <td>0.000909</td>\n",
       "      <td>0.048248</td>\n",
       "      <td>0.075537</td>\n",
       "      <td>None</td>\n",
       "      <td>1</td>\n",
       "      <td>5.165100e-04</td>\n",
       "      <td>9.734300e+08</td>\n",
       "      <td>5.306100e-13</td>\n",
       "    </tr>\n",
       "    <tr>\n",
       "      <th>61</th>\n",
       "      <td>5.07682</td>\n",
       "      <td>2</td>\n",
       "      <td>10000.0</td>\n",
       "      <td>5000.0</td>\n",
       "      <td>0.537828</td>\n",
       "      <td>NaN</td>\n",
       "      <td>7</td>\n",
       "      <td>0.025684</td>\n",
       "      <td>0.001131</td>\n",
       "      <td>0.050723</td>\n",
       "      <td>0.078284</td>\n",
       "      <td>None</td>\n",
       "      <td>1</td>\n",
       "      <td>2.761800e-06</td>\n",
       "      <td>9.734300e+08</td>\n",
       "      <td>2.837200e-15</td>\n",
       "    </tr>\n",
       "  </tbody>\n",
       "</table>\n",
       "</div>"
      ],
      "text/plain": [
       "    execution_time  time_step/number  time_step/t  time_step/dt  \\\n",
       "37         5.07682                 2      10000.0        5000.0   \n",
       "41         5.07682                 2      10000.0        5000.0   \n",
       "45         5.07682                 2      10000.0        5000.0   \n",
       "49         5.07682                 2      10000.0        5000.0   \n",
       "53         5.07682                 2      10000.0        5000.0   \n",
       "57         5.07682                 2      10000.0        5000.0   \n",
       "61         5.07682                 2      10000.0        5000.0   \n",
       "\n",
       "    time_step/cpu_time  time_step/output_time  time_step/iteration/number  \\\n",
       "37            0.537828                    NaN                           1   \n",
       "41            0.537828                    NaN                           2   \n",
       "45            0.537828                    NaN                           3   \n",
       "49            0.537828                    NaN                           4   \n",
       "53            0.537828                    NaN                           5   \n",
       "57            0.537828                    NaN                           6   \n",
       "61            0.537828                    NaN                           7   \n",
       "\n",
       "    time_step/iteration/assembly_time  time_step/iteration/dirichlet_bc_time  \\\n",
       "37                           0.022760                               0.000955   \n",
       "41                           0.026220                               0.000959   \n",
       "45                           0.025072                               0.001008   \n",
       "49                           0.025403                               0.001071   \n",
       "53                           0.025760                               0.001051   \n",
       "57                           0.025700                               0.000909   \n",
       "61                           0.025684                               0.001131   \n",
       "\n",
       "    time_step/iteration/linear_solver_time  time_step/iteration/cpu_time  \\\n",
       "37                                0.048041                      0.072458   \n",
       "41                                0.049908                      0.077778   \n",
       "45                                0.047717                      0.074520   \n",
       "49                                0.049288                      0.076502   \n",
       "53                                0.048617                      0.076121   \n",
       "57                                0.048248                      0.075537   \n",
       "61                                0.050723                      0.078284   \n",
       "\n",
       "   time_step/iteration/phase_field_parameter  \\\n",
       "37                                      None   \n",
       "41                                      None   \n",
       "45                                      None   \n",
       "49                                      None   \n",
       "53                                      None   \n",
       "57                                      None   \n",
       "61                                      None   \n",
       "\n",
       "    time_step/iteration/component_convergence/number  \\\n",
       "37                                                 1   \n",
       "41                                                 1   \n",
       "45                                                 1   \n",
       "49                                                 1   \n",
       "53                                                 1   \n",
       "57                                                 1   \n",
       "61                                                 1   \n",
       "\n",
       "    time_step/iteration/component_convergence/dx  \\\n",
       "37                                  3.679900e+08   \n",
       "41                                  1.198400e+08   \n",
       "45                                  1.251600e+05   \n",
       "49                                  2.169000e+02   \n",
       "53                                  3.380400e-01   \n",
       "57                                  5.165100e-04   \n",
       "61                                  2.761800e-06   \n",
       "\n",
       "    time_step/iteration/component_convergence/x  \\\n",
       "37                                 1.093000e+09   \n",
       "41                                 9.735600e+08   \n",
       "45                                 9.734400e+08   \n",
       "49                                 9.734300e+08   \n",
       "53                                 9.734300e+08   \n",
       "57                                 9.734300e+08   \n",
       "61                                 9.734300e+08   \n",
       "\n",
       "    time_step/iteration/component_convergence/dx_relative  \n",
       "37                                       3.366900e-01      \n",
       "41                                       1.230900e-01      \n",
       "45                                       1.285700e-04      \n",
       "49                                       2.228200e-07      \n",
       "53                                       3.472600e-10      \n",
       "57                                       5.306100e-13      \n",
       "61                                       2.837200e-15      "
      ]
     },
     "execution_count": 181,
     "metadata": {},
     "output_type": "execute_result"
    }
   ],
   "source": [
    "out_df_new[out_df_new[\"time_step/number\"]==2]"
   ]
  },
  {
   "cell_type": "code",
   "execution_count": 184,
   "id": "eecd8003-82fd-4df6-bce7-1781180ae19b",
   "metadata": {},
   "outputs": [
    {
     "data": {
      "image/png": "[encoded data removed]",
      "text/plain": [
       "<Figure size 576x432 with 1 Axes>"
      ]
     },
     "metadata": {
      "needs_background": "light"
     },
     "output_type": "display_data"
    }
   ],
   "source": [
    "for i in range(25):\n",
    "    plt.plot(out_df_new[out_df_new[\"time_step/number\"]==i+1][\"time_step/number\"],out_df_new[out_df_new[\"time_step/number\"]==i+1][\"time_step/iteration/component_convergence/dx_relative\"],'-o')\n",
    "plt.xlabel(\"time steps\")\n",
    "plt.ylabel(\"relative convergence of pressure\")\n",
    "plt.yscale('log')\n",
    "plt.tight_layout();"
   ]
  },
  {
   "cell_type": "code",
   "execution_count": 183,
   "id": "c916cea8-9c48-4010-b7a9-bcff1a246cb3",
   "metadata": {},
   "outputs": [
    {
     "data": {
      "image/png": "[encoded data removed]",
      "text/plain": [
       "<Figure size 576x432 with 1 Axes>"
      ]
     },
     "metadata": {
      "needs_background": "light"
     },
     "output_type": "display_data"
    }
   ],
   "source": [
    "for i in range(25):\n",
    "    plt.plot(out_df_new[out_df_new[\"time_step/number\"]==i+1][\"time_step/number\"],out_df_new[out_df_new[\"time_step/number\"]==i+1][\"time_step/iteration/component_convergence/dx\"],'-o')\n",
    "plt.xlabel(\"time steps\")\n",
    "plt.ylabel(\"absolute convergence of the pressure\")\n",
    "plt.yscale('log')\n",
    "plt.tight_layout();"
   ]
  },
  {
   "cell_type": "markdown",
   "id": "57add840-3dd2-4533-9aec-768cf2e8c7ca",
   "metadata": {},
   "source": [
    "# Conclusions\n",
    "\n",
    "A short overview over the capabilities of ogs6py and VTUinterface for enhancing modeling workflows in OpenGeoSys was presented.\n",
    "There is no limit to the user's creativity in applying these tools to more complex situations. For the sake of brevity, we focused\n",
    "on highlight relevant in most modeling studies."
   ]
  }
 ],
 "metadata": {
  "kernelspec": {
   "display_name": "Python 3",
   "language": "python",
   "name": "python3"
  },
  "language_info": {
   "codemirror_mode": {
    "name": "ipython",
    "version": 3
   },
   "file_extension": ".py",
   "mimetype": "text/x-python",
   "name": "python",
   "nbconvert_exporter": "python",
   "pygments_lexer": "ipython3",
   "version": "3.9.5"
  }
 },
 "nbformat": 4,
 "nbformat_minor": 5
}
