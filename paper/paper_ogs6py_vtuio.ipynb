{
 "cells": [
  {
   "cell_type": "markdown",
   "metadata": {},
   "source": [
    "# Summary\n",
    "\n",
    "ogs6py is a Python interface for the OpenGeoSys finite element software [@Bilke2019].\n",
    "In conjunction with VTUinterface it is possible to streamline modeling workflows\n",
    "in Jupyter Notebooks using Python.\n",
    "With this article, we wish to introduce two new Python modules that facilitate\n",
    "the pre- and postprocessing of finite element calculations of OpenGeoSys and thus\n",
    "make this code more accessible. Their use is demonstrated along workflows typically\n",
    "encountered by the modeller, including the variation of parameters, boundary conditions,\n",
    "or solver settings, the verification of simulation results by comparison to analytical\n",
    "solutions, the set-up and evaluation of ensemble runs, the analysis of results by line plots,\n",
    "time series, or transient contour plots.\n",
    "\n",
    "# Statement of need\n",
    "\n",
    "Driven by its ease-of-use and flexibility as an open-source \n",
    "dynamic language, its vast modular ecosystem, the development of powerful plotting\n",
    "libraries and the Jupyter Notebook technology, Python became the quasi-standard for \n",
    "scientific data analysis in the modelling community during the past decade.\n",
    "However, the attractiveness of Phython is not just limited to postprocessing. \n",
    "E.g, with the Python wrapper for GMSH [@geuzaine2009gmsh] or the tool meshio [@nico_schlomer_2021_4745399] also pre-processing tasks can\n",
    "be easily conducted without leaving the IPython command prompt. The useability of a modeling package\n",
    "is therefore greatly enhanced if Python bindings are provided. In fact, \n",
    "while many open-source tools effectively forced the user to learn a singular syntax\n",
    "for interacting with the software, Python bindings allow control over such tools from \n",
    "within the Python world and thus open them up for a wider community of users.\n",
    "\n",
    "Here, we are particularly addressing the open-source code OpenGeoSys (OGS) [@Bilke2019] version 6. It is our aim\n",
    "to facilitate both pre- and post-processing workflows using the Python ecosystem. \n",
    "This aim was not the least inspired by the desire to facilitate setting up, controlling and\n",
    "evaluating ensemble runs [@Buchwald2020,@Chaudhry2021] but has now taken on a wider perspective of general \n",
    "software usability. There exists already a similar python interface \"ogs5py\" for OGS version 5 [@muller2021ogs5py]. \n",
    "However, the differences in many concepts, like input file handling, required an entirely new package build from scratch.\n",
    "\n",
    "As standard output format, OpenGeoSys uses VTK unstructured grid files (VTU) as timeslices stacked together by a PVD file.\n",
    "These can be analyzed typically using Paraview [@ahrens2005paraview]. For interactive Python use the Python \n",
    "wrapper for VTK [@schroeder2000visualizing] and some other tools like PyVista [@sullivan2019pyvista] or Mayavi [@ramachandran2011mayavi] \n",
    "are available facilitating an easier access to the VTK library.\n",
    "While the direct use of the VTK library is quite cumbersome for quite _simple_ tasks, like reading data for a given point set, especially when interpolation between grid points is also required. The latter packages focus mainly on 3D visualization. However, the _bread and butter_ bussiness of a finite-element-modeller often cosists of the extraction of single- or multiple point time-series data.\n",
    "To our knowledge the named packages (with the exception of Paraview) don't have file support for PVDs or time series data, yet ([@pvdissue; @timeseriesissue].\n",
    "\n",
    "# Usage\n",
    "\n",
    "With ogs6py it is possible to create complete OGS source files from scratch or to alter existing file.\n",
    "The following example uses a complete input file for a coupled THM point heat source problem, exchanges parts and writes the input, runs the problem and analyses the results."
   ]
  },
  {
   "cell_type": "code",
   "execution_count": 17,
   "metadata": {},
   "outputs": [],
   "source": [
    "from ogs6py.ogs import OGS"
   ]
  },
  {
   "cell_type": "code",
   "execution_count": 18,
   "metadata": {},
   "outputs": [],
   "source": [
    "import plot_settings"
   ]
  },
  {
   "cell_type": "code",
   "execution_count": 19,
   "metadata": {},
   "outputs": [],
   "source": [
    "import vtuIO"
   ]
  },
  {
   "cell_type": "code",
   "execution_count": 20,
   "metadata": {},
   "outputs": [],
   "source": [
    "import numpy as np"
   ]
  },
  {
   "cell_type": "code",
   "execution_count": 21,
   "metadata": {},
   "outputs": [],
   "source": [
    "import matplotlib.pyplot as plt\n",
    "import matplotlib.tri as tri"
   ]
  },
  {
   "cell_type": "markdown",
   "metadata": {},
   "source": [
    "## Example problem\n",
    "\n",
    "In order to demonstrate the features of the problem, we study the example of a tunnel excavation followed by emplacement of a heat-emitting canister. The model simulates the thermal, hydraulic and mechanical response of the system during these two phases. For details on such problems we refer the reader to previous work [@Wang2021]. The modelling domain consists of a $200\\; \\text{m} \\times 200\\; \\text{m}$ section with a hole ($r=2.5\\ \\text{m}$) mimicing a heat-emitting canister as can be seen later in the pressure contour plot."
   ]
  },
  {
   "cell_type": "markdown",
   "metadata": {},
   "source": [
    "## 1. Excavation\n",
    "\n",
    "We first excavate the tunnel by gradually reducing the traction and the pore pressure at the tunnel contour.\n",
    "This is achieved by a so-called deconfinement curve distributing the excavation over 8 days. The excavated tunnel is then left to drain and consolidate for another 300 days prior to the commencement of heating."
   ]
  },
  {
   "cell_type": "code",
   "execution_count": 22,
   "metadata": {},
   "outputs": [],
   "source": [
    "model = OGS(INPUT_FILE=\"tunnel.prj\", PROJECT_FILE=\"tunnel_exc.prj\", MKL=True)"
   ]
  },
  {
   "cell_type": "code",
   "execution_count": 23,
   "metadata": {},
   "outputs": [],
   "source": [
    "model.replace_text(\"tunnel_exc\", xpath=\"./time_loop/output/prefix\")"
   ]
  },
  {
   "cell_type": "code",
   "execution_count": 24,
   "metadata": {},
   "outputs": [
    {
     "data": {
      "text/plain": [
       "True"
      ]
     },
     "execution_count": 24,
     "metadata": {},
     "output_type": "execute_result"
    }
   ],
   "source": [
    "model.write_input()"
   ]
  },
  {
   "cell_type": "markdown",
   "metadata": {},
   "source": [
    "The input file tunnel_ogspy.prj can be build from scratch using ogs6py commands. The corresponding code can be found in create_tunnel.py.\n",
    "The path to the ogs executable and a name for the logfile containing important information on the simulation run need to be given as well."
   ]
  },
  {
   "cell_type": "code",
   "execution_count": 25,
   "metadata": {},
   "outputs": [
    {
     "name": "stdout",
     "output_type": "stream",
     "text": [
      "OGS finished with project file tunnel_exc.prj.\n",
      "Execution took 34.07329559326172 s\n"
     ]
    }
   ],
   "source": [
    "model.run_model(path=\"~/ogs_release/bin\", logfile=\"excavation.log\")"
   ]
  },
  {
   "cell_type": "markdown",
   "metadata": {},
   "source": [
    "The ouput can be eaysily analyzed using the capabilities of the VTUinterface tool.\n",
    "It is important to tell vtuIO the dimensionality of the problem in order to use the correct algorithm for interpolation."
   ]
  },
  {
   "cell_type": "markdown",
   "metadata": {},
   "source": [
    "One of the most significant features of VTUinterface is the ability to deal with PVD files as time series data."
   ]
  },
  {
   "cell_type": "code",
   "execution_count": 26,
   "metadata": {},
   "outputs": [
    {
     "name": "stdout",
     "output_type": "stream",
     "text": [
      "tunnel_exc.pvd\n"
     ]
    }
   ],
   "source": [
    "pvdfile = vtuIO.PVDIO(\"tunnel_exc.pvd\", dim=2)"
   ]
  },
  {
   "cell_type": "markdown",
   "metadata": {},
   "source": [
    "The folllowing command reads time series data from the PVD and the referenced VTU files.\n",
    "The default observation point is {'pt0': (0,0,0)} using the method nearest the data at the tunnel boundary can be gathered:"
   ]
  },
  {
   "cell_type": "code",
   "execution_count": 27,
   "metadata": {},
   "outputs": [],
   "source": [
    "excavation_curve = pvdfile.read_time_series(\"pressure\", interpolation_method=\"nearest\")"
   ]
  },
  {
   "cell_type": "markdown",
   "metadata": {},
   "source": [
    "and directly displayed using matplotlib:"
   ]
  },
  {
   "cell_type": "code",
   "execution_count": 28,
   "metadata": {},
   "outputs": [
    {
     "data": {
      "image/png": "[encoded data removed]",
      "text/plain": [
       "<Figure size 576x432 with 1 Axes>"
      ]
     },
     "metadata": {
      "needs_background": "light"
     },
     "output_type": "display_data"
    }
   ],
   "source": [
    "plt.plot(pvdfile.timesteps, excavation_curve[\"pt0\"] / 1e6)\n",
    "plt.xlabel(\"$t$ / d\")\n",
    "plt.ylabel(\"$p$ / MPa\");"
   ]
  },
  {
   "cell_type": "markdown",
   "metadata": {},
   "source": [
    "## 2. Spatially varying properties\n",
    "\n",
    "Another useful feature in a modelling workflow we wish to demonstrate is the assignment of spatially varying properties, initial conditions, etc. Here, we include a permeability enhancement in the vicinity of the tunnel after excavation in order to mimic the existence of an excavation damaged zone (EDZ) as an illustrative example. Counter to our usual simulations, the EDZ is here only activated in the heating phase in order to keep this demonstration case simple.\n",
    "\n",
    "To define a field for an existing VTU file, we can define an arbitrary founction depending on three coordinates x,y and z:"
   ]
  },
  {
   "cell_type": "code",
   "execution_count": 29,
   "metadata": {},
   "outputs": [],
   "source": [
    "R = 2.5"
   ]
  },
  {
   "cell_type": "code",
   "execution_count": 30,
   "metadata": {},
   "outputs": [],
   "source": [
    "def permEDZ(x,y,z):\n",
    "    r = np.sqrt(x**2+y**2)\n",
    "    return np.exp(-(r-R)*3)/1e17+1e-20"
   ]
  },
  {
   "cell_type": "code",
   "execution_count": 31,
   "metadata": {},
   "outputs": [],
   "source": [
    "r = np.linspace(R,10,100)"
   ]
  },
  {
   "cell_type": "code",
   "execution_count": 32,
   "metadata": {},
   "outputs": [
    {
     "data": {
      "image/png": "[encoded data removed]",
      "text/plain": [
       "<Figure size 576x432 with 1 Axes>"
      ]
     },
     "metadata": {
      "needs_background": "light"
     },
     "output_type": "display_data"
    }
   ],
   "source": [
    "plt.plot(r,permEDZ(r,0,0))\n",
    "plt.axvline(R,ls='--',color='black')\n",
    "plt.xlabel(\"$r$ / m\")\n",
    "plt.yscale(\"log\")\n",
    "plt.ylabel(\"$k$ / m$^2$\");"
   ]
  },
  {
   "cell_type": "markdown",
   "metadata": {},
   "source": [
    "We read in the last time-step after the excavation:"
   ]
  },
  {
   "cell_type": "code",
   "execution_count": 33,
   "metadata": {},
   "outputs": [],
   "source": [
    "lasttimestep = vtuIO.VTUIO(\"tunnel_exc_ts_81_t_8.000000.vtu\", dim=2)"
   ]
  },
  {
   "cell_type": "markdown",
   "metadata": {},
   "source": [
    "The the function ist then converted to a point field which is transformed to cell data by the function argument cell=True and written to the file \"tunnel_restart.vtu\":"
   ]
  },
  {
   "cell_type": "code",
   "execution_count": 34,
   "metadata": {},
   "outputs": [],
   "source": [
    "lasttimestep.func_to_field(permEDZ, \"perm\", \"tunnel_restart.vtu\", cell=True)"
   ]
  },
  {
   "cell_type": "markdown",
   "metadata": {},
   "source": [
    "## 3. Create Input for heating\n",
    "\n",
    "Now that the properties are set and the initial conditions calculated, we can start the heating simulation. The following input specifies the boundary conditions of the problem and the material properties in the input file for the new phase, which is also based on the original input file used above for the excavation run.\n",
    "\n",
    "The following set of methods are general purpose methods specially suited for manipulating the OGS6 (XML) input."
   ]
  },
  {
   "cell_type": "code",
   "execution_count": 35,
   "metadata": {},
   "outputs": [],
   "source": [
    "model = OGS(INPUT_FILE=\"tunnel.prj\", PROJECT_FILE=\"tunnel_heat.prj\", MKL=True)"
   ]
  },
  {
   "cell_type": "code",
   "execution_count": 36,
   "metadata": {},
   "outputs": [],
   "source": [
    "model.replace_text(\"tunnel_restart.vtu\", xpath=\"./meshes/mesh\", occurrence=0)\n",
    "model.replace_text(\"tunnel_heat\", xpath=\"./time_loop/output/prefix\")\n",
    "model.remove_element(\"./processes/process/initial_stress\")\n",
    "model.remove_element(\"./media/medium/properties/property[name='permeability']\")\n",
    "model.remove_element(\"./parameters/parameter[mesh='tunnel']\")\n",
    "model.add_block(\"property\", parent_xpath=\"./media/medium/properties\", taglist=[\"name\",\"type\", \"parameter_name\"], textlist=[\"permeability\", \"Parameter\", \"k\"])\n",
    "model.add_block(\"parameter\", parent_xpath=\"./parameters\", taglist=[\"name\",\"type\", \"field_name\"], textlist=[\"k\", \"MeshElement\", \"perm\"])\n",
    "model.add_block(\"parameter\", parent_xpath=\"./parameters\", taglist=[\"name\",\"type\", \"field_name\"], textlist=[\"displacement_exc\", \"MeshNode\", \"displacement\"])\n",
    "model.add_block(\"parameter\", parent_xpath=\"./parameters\", taglist=[\"name\",\"type\", \"field_name\"], textlist=[\"pressure_exc\", \"MeshNode\", \"pressure\"])\n",
    "model.replace_text(\"displacement_exc\", xpath=\"./process_variables/process_variable[name='displacement']/initial_condition\")\n",
    "model.replace_text(\"pressure_exc\", xpath=\"./process_variables/process_variable[name='pressure']/initial_condition\")\n",
    "model.remove_element(\"./process_variables/process_variable[name='displacement']/boundary_conditions/boundary_condition[mesh='tunnel_inner']\")\n",
    "model.remove_element(\"./process_variables/process_variable[name='pressure']/boundary_conditions/boundary_condition[mesh='tunnel_inner']\")\n",
    "model.add_block(\"boundary_condition\", parent_xpath=\"./process_variables/process_variable[name='temperature']/boundary_conditions\", taglist=[\"mesh\",\"type\", \"parameter\"], textlist=[\"tunnel_inner\", \"Neumann\", \"heat_bc\"])\n",
    "model.replace_text(\"100000000\", xpath=\"./time_loop/processes/process/time_stepping/t_end\")\n",
    "model.replace_text(\"500000\", xpath=\"./time_loop/processes/process/time_stepping/initial_dt\")\n",
    "model.replace_text(\"50000\", xpath=\"./time_loop/processes/process/time_stepping/minimum_dt\")\n",
    "model.replace_text(\"500000\", xpath=\"./time_loop/processes/process/time_stepping/maximum_dt\")\n",
    "model.replace_text(\"10\", xpath=\"./time_loop/output/timesteps/pair/each_steps\")"
   ]
  },
  {
   "cell_type": "code",
   "execution_count": 39,
   "metadata": {},
   "outputs": [
    {
     "data": {
      "text/plain": [
       "True"
      ]
     },
     "execution_count": 39,
     "metadata": {},
     "output_type": "execute_result"
    }
   ],
   "source": [
    "model.write_input()"
   ]
  },
  {
   "cell_type": "code",
   "execution_count": 40,
   "metadata": {},
   "outputs": [
    {
     "name": "stdout",
     "output_type": "stream",
     "text": [
      "OGS finished with project file tunnel_heat.prj.\n",
      "Execution took 180.506902217865 s\n"
     ]
    }
   ],
   "source": [
    "model.run_model(path=\"~/ogs_release/bin\", logfile=\"heating.log\")"
   ]
  },
  {
   "cell_type": "markdown",
   "metadata": {},
   "source": [
    "We now look at the output again and define a set of observation points. We're interested in temperatures as well as pore pressure rise due to thermal pressurization of the fluid."
   ]
  },
  {
   "cell_type": "code",
   "execution_count": 41,
   "metadata": {},
   "outputs": [
    {
     "name": "stdout",
     "output_type": "stream",
     "text": [
      "tunnel_heat.pvd\n"
     ]
    }
   ],
   "source": [
    "pvdfile = vtuIO.PVDIO(\"tunnel_heat.pvd\", dim=2)"
   ]
  },
  {
   "cell_type": "code",
   "execution_count": 42,
   "metadata": {},
   "outputs": [],
   "source": [
    "pts = {\"pt0\": (3.5,3.5,0), \"pt1\": (5.5,5.5,0), \"pt2\": (8.5,8.5,0)}"
   ]
  },
  {
   "cell_type": "code",
   "execution_count": 43,
   "metadata": {},
   "outputs": [],
   "source": [
    "heating_curve = pvdfile.read_time_series(\"temperature\", pts=pts)\n",
    "pressure_curve = pvdfile.read_time_series(\"pressure\", pts=pts)"
   ]
  },
  {
   "cell_type": "code",
   "execution_count": 44,
   "metadata": {},
   "outputs": [
    {
     "data": {
      "image/png": "[encoded data removed]",
      "text/plain": [
       "<Figure size 576x432 with 1 Axes>"
      ]
     },
     "metadata": {
      "needs_background": "light"
     },
     "output_type": "display_data"
    }
   ],
   "source": [
    "for pt in pts:\n",
    "    plt.plot(pvdfile.timesteps/86400, heating_curve[pt]-273.15)\n",
    "plt.xlabel(\"$t$ / d\")\n",
    "plt.ylabel(\"$T$ / °C\");"
   ]
  },
  {
   "cell_type": "code",
   "execution_count": 45,
   "metadata": {},
   "outputs": [
    {
     "data": {
      "image/png": "[encoded data removed]",
      "text/plain": [
       "<Figure size 576x432 with 1 Axes>"
      ]
     },
     "metadata": {
      "needs_background": "light"
     },
     "output_type": "display_data"
    }
   ],
   "source": [
    "for pt in pts:\n",
    "    plt.plot(pvdfile.timesteps/86400, pressure_curve[pt] / 1e6)\n",
    "plt.xlabel(\"$t$ / d\")\n",
    "plt.ylabel(\"$p$ / MPa\");\n",
    "#plt.xscale('log')"
   ]
  },
  {
   "cell_type": "code",
   "execution_count": 46,
   "metadata": {},
   "outputs": [],
   "source": [
    "last_ts_vtu = vtuIO.VTUIO(pvdfile.vtufilenames[-1], dim=2)"
   ]
  },
  {
   "cell_type": "markdown",
   "metadata": {},
   "source": [
    "Without interpolation any field corresponding to the order of node points (saved in .points variable) can be read with the following command."
   ]
  },
  {
   "cell_type": "code",
   "execution_count": 47,
   "metadata": {},
   "outputs": [],
   "source": [
    "pressurefield = last_ts_vtu.get_point_field(\"pressure_interpolated\")"
   ]
  },
  {
   "cell_type": "markdown",
   "metadata": {},
   "source": [
    "The available field names can be obtained as well using the following function call:"
   ]
  },
  {
   "cell_type": "code",
   "execution_count": 48,
   "metadata": {},
   "outputs": [
    {
     "data": {
      "text/plain": [
       "['HydraulicFlow',\n",
       " 'NodalForces',\n",
       " 'displacement',\n",
       " 'epsilon',\n",
       " 'original_node_number',\n",
       " 'pressure',\n",
       " 'pressure_interpolated',\n",
       " 'saturation',\n",
       " 'sigma',\n",
       " 'temperature',\n",
       " 'temperature_interpolated',\n",
       " 'velocity']"
      ]
     },
     "execution_count": 48,
     "metadata": {},
     "output_type": "execute_result"
    }
   ],
   "source": [
    "last_ts_vtu.get_point_field_names()"
   ]
  },
  {
   "cell_type": "markdown",
   "metadata": {},
   "source": [
    "To make a contour plot of the pressure field, matplotlibs triangulation tools can be used:"
   ]
  },
  {
   "cell_type": "code",
   "execution_count": 49,
   "metadata": {},
   "outputs": [],
   "source": [
    "levels = np.arange(1, 10, 0.5)"
   ]
  },
  {
   "cell_type": "code",
   "execution_count": 50,
   "metadata": {},
   "outputs": [],
   "source": [
    "triang = tri.Triangulation(last_ts_vtu.points[:,0],last_ts_vtu.points[:,1])"
   ]
  },
  {
   "cell_type": "code",
   "execution_count": 51,
   "metadata": {},
   "outputs": [],
   "source": [
    "triang.set_mask(np.hypot(last_ts_vtu.points[:,0][triang.triangles].mean(axis=1),\n",
    "                         last_ts_vtu.points[:,1][triang.triangles].mean(axis=1))\n",
    "                < R)"
   ]
  },
  {
   "cell_type": "code",
   "execution_count": 52,
   "metadata": {},
   "outputs": [
    {
     "data": {
      "image/png": "[encoded data removed]",
      "text/plain": [
       "<Figure size 576x432 with 2 Axes>"
      ]
     },
     "metadata": {
      "needs_background": "light"
     },
     "output_type": "display_data"
    }
   ],
   "source": [
    "plt.tricontourf(triang,pressurefield/1e6, cmap=plt.cm.get_cmap(\"cool\"), levels=levels)\n",
    "plt.xlabel(\"$x$ / m\")\n",
    "plt.ylabel(\"$y$ / m\")\n",
    "plt.colorbar(label='$p$ / MPa')\n",
    "plt.tight_layout()"
   ]
  },
  {
   "cell_type": "markdown",
   "metadata": {},
   "source": [
    "Often it is important to read out data at arbitraty points within the mesh or along predefined lines.\n",
    "To do that we need to interpolate between grid points.\n",
    "VTUinterface uses scipy.interpolate for interpolation between grid points, i.e., the user can select between different methods that are provided by scipy.interpolate.\n",
    "\n",
    "A diagonal point set can be defined as follows:"
   ]
  },
  {
   "cell_type": "code",
   "execution_count": 53,
   "metadata": {},
   "outputs": [],
   "source": [
    "x = np.linspace(R,50,num=100)"
   ]
  },
  {
   "cell_type": "code",
   "execution_count": 54,
   "metadata": {},
   "outputs": [],
   "source": [
    "diagonal = [(i,i,0) for i in x]"
   ]
  },
  {
   "cell_type": "code",
   "execution_count": 55,
   "metadata": {},
   "outputs": [],
   "source": [
    "interp_methods = [\"nearest\", \"linear\", \"cubic\"]"
   ]
  },
  {
   "cell_type": "markdown",
   "metadata": {},
   "source": [
    "Using three different interpolation methods, we can read the output data for a point set array along the diagonal."
   ]
  },
  {
   "cell_type": "code",
   "execution_count": 56,
   "metadata": {},
   "outputs": [],
   "source": [
    "p_diagonal = {}\n",
    "for method in interp_methods:\n",
    "    p_diagonal[method] = last_ts_vtu.get_point_set_data(\"pressure_interpolated\", pointsetarray=diagonal, interpolation_method=method)"
   ]
  },
  {
   "cell_type": "code",
   "execution_count": 57,
   "metadata": {},
   "outputs": [],
   "source": [
    "r = np.sqrt(2*x*x)"
   ]
  },
  {
   "cell_type": "code",
   "execution_count": 58,
   "metadata": {},
   "outputs": [
    {
     "data": {
      "image/png": "[encoded data removed]",
      "text/plain": [
       "<Figure size 576x432 with 1 Axes>"
      ]
     },
     "metadata": {
      "needs_background": "light"
     },
     "output_type": "display_data"
    }
   ],
   "source": [
    "for method in interp_methods:\n",
    "    plt.plot(r[:],p_diagonal[method]/1e6, label=method)\n",
    "plt.legend()\n",
    "plt.xlabel(\"$r$ / m\")\n",
    "plt.ylabel(\"$p$ / MPa\")\n",
    "plt.tight_layout();"
   ]
  },
  {
   "cell_type": "markdown",
   "metadata": {},
   "source": [
    "The combination of ogs6py with VTUinterface allows us to perform ensemble runs quite easily and to analyze the results directly on-the-fly.\n",
    "E.g., considering a  distribution of a triangular distributed parameter like the solid thermal expansion coefficient $a_\\text{s}$:"
   ]
  },
  {
   "cell_type": "code",
   "execution_count": 59,
   "metadata": {},
   "outputs": [],
   "source": [
    "a_s_dist = {\"low\": 1e-6, \"mid\": 1.e-5, \"high\": 1.5e-5} "
   ]
  },
  {
   "cell_type": "markdown",
   "metadata": {},
   "source": [
    "In contrast to the the general purpose methods like `replace_text()` and `add_block()`, there exist also methods for very conveniently replacing medium, phase and parameter properties.\n",
    "In this example we use `replace_phase_property()` to set the solid thermal expansion coefficient drawn from the given distribution in each iteration.\n",
    "After execution, the pressure value at given points is read for the last time step and saved into a list.\n",
    "Parallelization of these kind of ensemble run is straight forwad e.g., using Pythons concurrent future methods."
   ]
  },
  {
   "cell_type": "code",
   "execution_count": 60,
   "metadata": {},
   "outputs": [
    {
     "name": "stdout",
     "output_type": "stream",
     "text": [
      "OGS execution not successfull. Error code: 127\n"
     ]
    },
    {
     "ename": "RuntimeError",
     "evalue": "",
     "output_type": "error",
     "traceback": [
      "\u001b[0;31m---------------------------------------------------------------------------\u001b[0m",
      "\u001b[0;31mRuntimeError\u001b[0m                              Traceback (most recent call last)",
      "\u001b[0;32m<ipython-input-60-cc5af4ccfc38>\u001b[0m in \u001b[0;36m<module>\u001b[0;34m\u001b[0m\n\u001b[1;32m      7\u001b[0m     \u001b[0mmodel\u001b[0m\u001b[0;34m.\u001b[0m\u001b[0mreplace_phase_property\u001b[0m\u001b[0;34m(\u001b[0m\u001b[0mmediumid\u001b[0m\u001b[0;34m=\u001b[0m\u001b[0;36m0\u001b[0m\u001b[0;34m,\u001b[0m \u001b[0mphase\u001b[0m\u001b[0;34m=\u001b[0m\u001b[0;34m\"Solid\"\u001b[0m\u001b[0;34m,\u001b[0m \u001b[0mname\u001b[0m\u001b[0;34m=\u001b[0m\u001b[0;34m\"thermal_expansivity\"\u001b[0m\u001b[0;34m,\u001b[0m \u001b[0mvalue\u001b[0m\u001b[0;34m=\u001b[0m\u001b[0ma_s\u001b[0m\u001b[0;34m[\u001b[0m\u001b[0;34m-\u001b[0m\u001b[0;36m1\u001b[0m\u001b[0;34m]\u001b[0m\u001b[0;34m)\u001b[0m\u001b[0;34m\u001b[0m\u001b[0;34m\u001b[0m\u001b[0m\n\u001b[1;32m      8\u001b[0m     \u001b[0mmodel\u001b[0m\u001b[0;34m.\u001b[0m\u001b[0mwrite_input\u001b[0m\u001b[0;34m(\u001b[0m\u001b[0;34m)\u001b[0m\u001b[0;34m\u001b[0m\u001b[0;34m\u001b[0m\u001b[0m\n\u001b[0;32m----> 9\u001b[0;31m     \u001b[0mmodel\u001b[0m\u001b[0;34m.\u001b[0m\u001b[0mrun_model\u001b[0m\u001b[0;34m(\u001b[0m\u001b[0mpath\u001b[0m\u001b[0;34m=\u001b[0m\u001b[0;34m\"~/github/ogs/build_mkl/bin\"\u001b[0m\u001b[0;34m,\u001b[0m \u001b[0mlogfile\u001b[0m\u001b[0;34m=\u001b[0m\u001b[0;34m\"heating.log\"\u001b[0m\u001b[0;34m)\u001b[0m\u001b[0;34m\u001b[0m\u001b[0;34m\u001b[0m\u001b[0m\n\u001b[0m\u001b[1;32m     10\u001b[0m     \u001b[0mpvd\u001b[0m \u001b[0;34m=\u001b[0m \u001b[0mvtuIO\u001b[0m\u001b[0;34m.\u001b[0m\u001b[0mPVDIO\u001b[0m\u001b[0;34m(\u001b[0m\u001b[0;34m\"tunnel_heat_sample.pvd\"\u001b[0m\u001b[0;34m)\u001b[0m\u001b[0;34m\u001b[0m\u001b[0;34m\u001b[0m\u001b[0m\n\u001b[1;32m     11\u001b[0m     \u001b[0mlast_ts_vtu\u001b[0m \u001b[0;34m=\u001b[0m \u001b[0mvtuIO\u001b[0m\u001b[0;34m.\u001b[0m\u001b[0mVTUIO\u001b[0m\u001b[0;34m(\u001b[0m\u001b[0mpvd\u001b[0m\u001b[0;34m.\u001b[0m\u001b[0mvtufilenames\u001b[0m\u001b[0;34m[\u001b[0m\u001b[0;34m-\u001b[0m\u001b[0;36m1\u001b[0m\u001b[0;34m]\u001b[0m\u001b[0;34m,\u001b[0m \u001b[0mdim\u001b[0m\u001b[0;34m=\u001b[0m\u001b[0;36m2\u001b[0m\u001b[0;34m)\u001b[0m\u001b[0;34m\u001b[0m\u001b[0;34m\u001b[0m\u001b[0m\n",
      "\u001b[0;32m~/.local/lib/python3.8/site-packages/ogs6py/ogs.py\u001b[0m in \u001b[0;36mrun_model\u001b[0;34m(self, **args)\u001b[0m\n\u001b[1;32m    127\u001b[0m         \u001b[0;32melse\u001b[0m\u001b[0;34m:\u001b[0m\u001b[0;34m\u001b[0m\u001b[0;34m\u001b[0m\u001b[0m\n\u001b[1;32m    128\u001b[0m             \u001b[0mprint\u001b[0m\u001b[0;34m(\u001b[0m\u001b[0;34mf\"OGS execution not successfull. Error code: {returncode.returncode}\"\u001b[0m\u001b[0;34m)\u001b[0m\u001b[0;34m\u001b[0m\u001b[0;34m\u001b[0m\u001b[0m\n\u001b[0;32m--> 129\u001b[0;31m             \u001b[0;32mraise\u001b[0m \u001b[0mRuntimeError\u001b[0m\u001b[0;34m\u001b[0m\u001b[0;34m\u001b[0m\u001b[0m\n\u001b[0m\u001b[1;32m    130\u001b[0m \u001b[0;34m\u001b[0m\u001b[0m\n\u001b[1;32m    131\u001b[0m     \u001b[0;32mdef\u001b[0m \u001b[0m__dict2xml\u001b[0m\u001b[0;34m(\u001b[0m\u001b[0mself\u001b[0m\u001b[0;34m,\u001b[0m \u001b[0mparent\u001b[0m\u001b[0;34m,\u001b[0m \u001b[0mdictionary\u001b[0m\u001b[0;34m)\u001b[0m\u001b[0;34m:\u001b[0m\u001b[0;34m\u001b[0m\u001b[0;34m\u001b[0m\u001b[0m\n",
      "\u001b[0;31mRuntimeError\u001b[0m: "
     ]
    }
   ],
   "source": [
    "a_s = []\n",
    "pressure = []\n",
    "for i in range(5):\n",
    "    model = OGS(INPUT_FILE=\"tunnel_heat.prj\", PROJECT_FILE=\"tunnel_heat_sample.prj\", MKL=True)\n",
    "    a_s.append(np.random.triangular(a_s_dist[\"low\"], a_s_dist[\"mid\"],a_s_dist[\"high\"]))\n",
    "    model.replace_text(\"tunnel_heat_sample\", xpath=\"./time_loop/output/prefix\")\n",
    "    model.replace_phase_property(mediumid=0, phase=\"Solid\", name=\"thermal_expansivity\", value=a_s[-1])\n",
    "    model.write_input()\n",
    "    model.run_model(path=\"~/ogs_release/bin\", logfile=\"heating.log\")\n",
    "    pvd = vtuIO.PVDIO(\"tunnel_heat_sample.pvd\")\n",
    "    last_ts_vtu = vtuIO.VTUIO(pvd.vtufilenames[-1], dim=2)\n",
    "    p_data = last_ts_vtu.get_point_data(\"pressure_interpolated\", pts=pts)\n",
    "    pressure.append(p_data[\"pt2\"])"
   ]
  },
  {
   "cell_type": "markdown",
   "metadata": {},
   "source": [
    "The output shows the linear correlation between the thermal expansion coeffient and the pressure response at the giveb point."
   ]
  },
  {
   "cell_type": "code",
   "execution_count": null,
   "metadata": {},
   "outputs": [],
   "source": [
    "plt.scatter(a_s, np.array(pressure)/1e6)\n",
    "plt.xlabel('$a_\\\\mathrm{s}$ / K$^{-1}$')\n",
    "plt.ylabel('$p$ / MPa')\n",
    "plt.tight_layout();"
   ]
  },
  {
   "cell_type": "markdown",
   "metadata": {},
   "source": [
    "ogs6py has also a tool for parsing the OGS output.\n",
    "This can be very helpful for studying numerical stability and performance.\n",
    "In the following example the output is read and the number or nonlinear iterations needed for every time step are ploted versus the time steps."
   ]
  },
  {
   "cell_type": "code",
   "execution_count": null,
   "metadata": {},
   "outputs": [],
   "source": [
    "out_df = model.parse_out(\"heating.log\")"
   ]
  },
  {
   "cell_type": "code",
   "execution_count": null,
   "metadata": {},
   "outputs": [],
   "source": [
    "out_df.drop_duplicates(subset =\"time_step/number\", keep = \"last\", inplace = True)"
   ]
  },
  {
   "cell_type": "markdown",
   "metadata": {},
   "source": [
    "The output shows a very stable behavior as every time step needs 5 or 6 nonlinear iterations to converge."
   ]
  },
  {
   "cell_type": "code",
   "execution_count": null,
   "metadata": {},
   "outputs": [],
   "source": [
    "plt.plot(out_df[\"time_step/number\"], out_df[\"time_step/iteration/number\"])\n",
    "plt.xlabel(\"time step\")\n",
    "plt.ylabel(\"iterations per time step\")\n",
    "plt.tight_layout();"
   ]
  }
 ],
 "metadata": {
  "kernelspec": {
   "display_name": "Python 3",
   "language": "python",
   "name": "python3"
  },
  "language_info": {
   "codemirror_mode": {
    "name": "ipython",
    "version": 3
   },
   "file_extension": ".py",
   "mimetype": "text/x-python",
   "name": "python",
   "nbconvert_exporter": "python",
   "pygments_lexer": "ipython3",
   "version": "3.8.6"
  }
 },
 "nbformat": 4,
 "nbformat_minor": 5
}
